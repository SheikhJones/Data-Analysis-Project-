{
  "nbformat": 4,
  "nbformat_minor": 0,
  "metadata": {
    "colab": {
      "provenance": [],
      "authorship_tag": "ABX9TyMFJFZsIMJnUEmOZR65hCko",
      "include_colab_link": true
    },
    "kernelspec": {
      "name": "python3",
      "display_name": "Python 3"
    },
    "language_info": {
      "name": "python"
    }
  },
  "cells": [
    {
      "cell_type": "markdown",
      "metadata": {
        "id": "view-in-github",
        "colab_type": "text"
      },
      "source": [
        "<a href=\"https://colab.research.google.com/github/SheikhJones/Data-Analysis-Project-/blob/Amazon-Sales-Data-Analytics/Amazon_Sales_Data.ipynb\" target=\"_parent\"><img src=\"https://colab.research.google.com/assets/colab-badge.svg\" alt=\"Open In Colab\"/></a>"
      ]
    },
    {
      "cell_type": "code",
      "execution_count": 1,
      "metadata": {
        "id": "8R96H3hYWwsY"
      },
      "outputs": [],
      "source": [
        "import pandas as pd\n",
        "\n",
        "# Load the dataset\n",
        "file_path = \"/content/Amazon Sales data.csv\"\n",
        "df = pd.read_csv(file_path)\n"
      ]
    },
    {
      "cell_type": "code",
      "source": [
        "# Data Quality Assessment\n",
        "print(\"Data Quality Assessment:\")\n",
        "print(df.info())  # Summary of the dataset including data types and missing values\n",
        "print(\"\\n\")\n"
      ],
      "metadata": {
        "colab": {
          "base_uri": "https://localhost:8080/"
        },
        "id": "GcjeW2CKWxbg",
        "outputId": "b195be46-26c5-4ca1-ea8a-42874c75ae49"
      },
      "execution_count": 2,
      "outputs": [
        {
          "output_type": "stream",
          "name": "stdout",
          "text": [
            "Data Quality Assessment:\n",
            "<class 'pandas.core.frame.DataFrame'>\n",
            "RangeIndex: 100 entries, 0 to 99\n",
            "Data columns (total 14 columns):\n",
            " #   Column          Non-Null Count  Dtype  \n",
            "---  ------          --------------  -----  \n",
            " 0   Region          100 non-null    object \n",
            " 1   Country         100 non-null    object \n",
            " 2   Item Type       100 non-null    object \n",
            " 3   Sales Channel   100 non-null    object \n",
            " 4   Order Priority  100 non-null    object \n",
            " 5   Order Date      100 non-null    object \n",
            " 6   Order ID        100 non-null    int64  \n",
            " 7   Ship Date       100 non-null    object \n",
            " 8   Units Sold      100 non-null    int64  \n",
            " 9   Unit Price      100 non-null    float64\n",
            " 10  Unit Cost       100 non-null    float64\n",
            " 11  Total Revenue   100 non-null    float64\n",
            " 12  Total Cost      100 non-null    float64\n",
            " 13  Total Profit    100 non-null    float64\n",
            "dtypes: float64(5), int64(2), object(7)\n",
            "memory usage: 11.1+ KB\n",
            "None\n",
            "\n",
            "\n"
          ]
        }
      ]
    },
    {
      "cell_type": "code",
      "source": [
        "# Data Cleaning\n",
        "# Convert 'Order Date' column to datetime format\n",
        "df['Order Date'] = pd.to_datetime(df['Order Date'], errors='coerce')\n",
        "\n",
        "# Drop rows with missing values in 'Order Date' column\n",
        "df.dropna(subset=['Order Date'], inplace=True)\n",
        "\n",
        "# Extract Year, Month, and Year-Month\n",
        "df['Year'] = df['Order Date'].dt.year\n",
        "df['Month'] = df['Order Date'].dt.month\n",
        "df['Year-Month'] = df['Order Date'].dt.to_period('M')\n"
      ],
      "metadata": {
        "id": "kr3J7dSsWxdk"
      },
      "execution_count": 3,
      "outputs": []
    },
    {
      "cell_type": "code",
      "source": [
        "# Display all data\n",
        "print(df)"
      ],
      "metadata": {
        "colab": {
          "base_uri": "https://localhost:8080/"
        },
        "id": "gAkQ7uziWxgE",
        "outputId": "6e873ac1-64ab-4a03-9f52-f25503f50bbb"
      },
      "execution_count": 4,
      "outputs": [
        {
          "output_type": "stream",
          "name": "stdout",
          "text": [
            "                               Region                Country        Item Type  \\\n",
            "0               Australia and Oceania                 Tuvalu        Baby Food   \n",
            "1   Central America and the Caribbean                Grenada           Cereal   \n",
            "2                              Europe                 Russia  Office Supplies   \n",
            "3                  Sub-Saharan Africa  Sao Tome and Principe           Fruits   \n",
            "4                  Sub-Saharan Africa                 Rwanda  Office Supplies   \n",
            "..                                ...                    ...              ...   \n",
            "95                 Sub-Saharan Africa                   Mali          Clothes   \n",
            "96                               Asia               Malaysia           Fruits   \n",
            "97                 Sub-Saharan Africa           Sierra Leone       Vegetables   \n",
            "98                      North America                 Mexico    Personal Care   \n",
            "99                 Sub-Saharan Africa             Mozambique        Household   \n",
            "\n",
            "   Sales Channel Order Priority Order Date   Order ID   Ship Date  Units Sold  \\\n",
            "0        Offline              H 2010-05-28  669165933   6/27/2010        9925   \n",
            "1         Online              C 2012-08-22  963881480   9/15/2012        2804   \n",
            "2        Offline              L 2014-05-02  341417157    5/8/2014        1779   \n",
            "3         Online              C 2014-06-20  514321792    7/5/2014        8102   \n",
            "4        Offline              L 2013-02-01  115456712    2/6/2013        5062   \n",
            "..           ...            ...        ...        ...         ...         ...   \n",
            "95        Online              M 2011-07-26  512878119    9/3/2011         888   \n",
            "96       Offline              L 2011-11-11  810711038  12/28/2011        6267   \n",
            "97       Offline              C 2016-06-01  728815257   6/29/2016        1485   \n",
            "98       Offline              M 2015-07-30  559427106    8/8/2015        5767   \n",
            "99       Offline              L 2012-02-10  665095412   2/15/2012        5367   \n",
            "\n",
            "    Unit Price  Unit Cost  Total Revenue  Total Cost  Total Profit  Year  \\\n",
            "0       255.28     159.42     2533654.00  1582243.50     951410.50  2010   \n",
            "1       205.70     117.11      576782.80   328376.44     248406.36  2012   \n",
            "2       651.21     524.96     1158502.59   933903.84     224598.75  2014   \n",
            "3         9.33       6.92       75591.66    56065.84      19525.82  2014   \n",
            "4       651.21     524.96     3296425.02  2657347.52     639077.50  2013   \n",
            "..         ...        ...            ...         ...           ...   ...   \n",
            "95      109.28      35.84       97040.64    31825.92      65214.72  2011   \n",
            "96        9.33       6.92       58471.11    43367.64      15103.47  2011   \n",
            "97      154.06      90.93      228779.10   135031.05      93748.05  2016   \n",
            "98       81.73      56.67      471336.91   326815.89     144521.02  2015   \n",
            "99      668.27     502.54     3586605.09  2697132.18     889472.91  2012   \n",
            "\n",
            "    Month Year-Month  \n",
            "0       5    2010-05  \n",
            "1       8    2012-08  \n",
            "2       5    2014-05  \n",
            "3       6    2014-06  \n",
            "4       2    2013-02  \n",
            "..    ...        ...  \n",
            "95      7    2011-07  \n",
            "96     11    2011-11  \n",
            "97      6    2016-06  \n",
            "98      7    2015-07  \n",
            "99      2    2012-02  \n",
            "\n",
            "[100 rows x 17 columns]\n"
          ]
        }
      ]
    },
    {
      "cell_type": "code",
      "source": [
        "# Sales Trend Analysis\n",
        "# Month-wise Sales\n",
        "monthly_sales = df.groupby('Month')['Total Revenue'].sum()\n",
        "\n",
        "# Year-wise Sales\n",
        "yearly_sales = df.groupby('Year')['Total Revenue'].sum()\n",
        "\n",
        "# Year-Month-wise Sales\n",
        "year_monthly_sales = df.groupby('Year-Month')['Total Revenue'].sum()\n"
      ],
      "metadata": {
        "id": "saOOqfkYWxiF"
      },
      "execution_count": 5,
      "outputs": []
    },
    {
      "cell_type": "code",
      "source": [
        "print(monthly_sales)"
      ],
      "metadata": {
        "colab": {
          "base_uri": "https://localhost:8080/"
        },
        "id": "SRNAVsAlWxkY",
        "outputId": "65cc0c60-2d47-4ec7-dbe4-1d73cbc937c5"
      },
      "execution_count": 6,
      "outputs": [
        {
          "output_type": "stream",
          "name": "stdout",
          "text": [
            "Month\n",
            "1     10482467.12\n",
            "2     24740517.77\n",
            "3      2274823.87\n",
            "4     16187186.33\n",
            "5     13215739.99\n",
            "6      5230325.77\n",
            "7     15669518.50\n",
            "8      1128164.91\n",
            "9      5314762.56\n",
            "10    15287576.61\n",
            "11    20568222.76\n",
            "12     7249462.12\n",
            "Name: Total Revenue, dtype: float64\n"
          ]
        }
      ]
    },
    {
      "cell_type": "code",
      "source": [
        "print(yearly_sales)"
      ],
      "metadata": {
        "colab": {
          "base_uri": "https://localhost:8080/"
        },
        "id": "TvZgFei_WxnV",
        "outputId": "e613b956-dcac-4f38-e3e6-751952f666db"
      },
      "execution_count": 7,
      "outputs": [
        {
          "output_type": "stream",
          "name": "stdout",
          "text": [
            "Year\n",
            "2010    19186024.92\n",
            "2011    11129166.07\n",
            "2012    31898644.52\n",
            "2013    20330448.66\n",
            "2014    16630214.43\n",
            "2015    12427982.86\n",
            "2016    12372867.22\n",
            "2017    13373419.63\n",
            "Name: Total Revenue, dtype: float64\n"
          ]
        }
      ]
    },
    {
      "cell_type": "code",
      "source": [
        "print(year_monthly_sales)"
      ],
      "metadata": {
        "colab": {
          "base_uri": "https://localhost:8080/"
        },
        "id": "4Uf8QIY4ZOG9",
        "outputId": "a4789434-0611-4af9-99ef-b2d4a33fba9f"
      },
      "execution_count": 9,
      "outputs": [
        {
          "output_type": "stream",
          "name": "stdout",
          "text": [
            "Year-Month\n",
            "2010-02    3410661.12\n",
            "2010-05    2587973.26\n",
            "2010-06    1082418.40\n",
            "2010-10    6064933.75\n",
            "2010-11    3458252.00\n",
            "2010-12    2581786.39\n",
            "2011-01    1042225.35\n",
            "2011-02     387002.20\n",
            "2011-04    2798046.49\n",
            "2011-05     272410.45\n",
            "2011-06      19103.44\n",
            "2011-07      97040.64\n",
            "2011-09     574951.92\n",
            "2011-11    5938385.58\n",
            "2012-01    1012884.00\n",
            "2012-02    6707849.42\n",
            "2012-03     994765.42\n",
            "2012-04    4556012.38\n",
            "2012-05    3782781.82\n",
            "2012-06    2132075.27\n",
            "2012-07    4445093.92\n",
            "2012-08     576782.80\n",
            "2012-09    4648152.72\n",
            "2012-10    3042246.77\n",
            "2013-02    3296425.02\n",
            "2013-03     835759.10\n",
            "2013-04    3262562.10\n",
            "2013-06    1352867.40\n",
            "2013-07    8545511.20\n",
            "2013-08      89623.98\n",
            "2013-09      71253.21\n",
            "2013-10    2702770.40\n",
            "2013-12     173676.25\n",
            "2014-02    1819660.25\n",
            "2014-04    4510578.10\n",
            "2014-05    3060338.59\n",
            "2014-06      75591.66\n",
            "2014-07     688641.85\n",
            "2014-08     455479.04\n",
            "2014-09      20404.71\n",
            "2014-10    1352370.65\n",
            "2014-11    4647149.58\n",
            "2015-01    5513227.50\n",
            "2015-02    2003911.12\n",
            "2015-04    1059987.26\n",
            "2015-07    1292409.45\n",
            "2015-08       6279.09\n",
            "2015-10    1904138.04\n",
            "2015-11     648030.40\n",
            "2016-03     197883.40\n",
            "2016-05     414371.10\n",
            "2016-06     568269.60\n",
            "2016-07     600821.44\n",
            "2016-10     221117.00\n",
            "2016-11    5876405.20\n",
            "2016-12    4493999.48\n",
            "2017-01    2914130.27\n",
            "2017-02    7115008.64\n",
            "2017-03     246415.95\n",
            "2017-05    3097864.77\n",
            "Freq: M, Name: Total Revenue, dtype: float64\n"
          ]
        }
      ]
    },
    {
      "cell_type": "code",
      "source": [
        "import matplotlib.pyplot as plt\n",
        "import seaborn as sns\n",
        "import plotly.express as px\n",
        "\n",
        "# Monthly Sales Visualization\n",
        "plt.figure(figsize=(10, 6))\n",
        "sns.barplot(x=monthly_sales.index, y=monthly_sales.values)\n",
        "plt.title('Monthly Sales')\n",
        "plt.xlabel('Month')\n",
        "plt.ylabel('Total Revenue')\n",
        "plt.show()\n"
      ],
      "metadata": {
        "colab": {
          "base_uri": "https://localhost:8080/",
          "height": 564
        },
        "id": "bIP0__cuZOJc",
        "outputId": "6903a246-d2df-4bd2-b69b-3c52ac1b8fd6"
      },
      "execution_count": 10,
      "outputs": [
        {
          "output_type": "display_data",
          "data": {
            "text/plain": [
              "<Figure size 1000x600 with 1 Axes>"
            ],
            "image/png": "[encoded data removed]"
          },
          "metadata": {}
        }
      ]
    },
    {
      "cell_type": "code",
      "source": [
        "# Yearly Sales Visualization\n",
        "plt.figure(figsize=(10, 6))\n",
        "sns.lineplot(x=yearly_sales.index, y=yearly_sales.values)\n",
        "plt.title('Yearly Sales')\n",
        "plt.xlabel('Year')\n",
        "plt.ylabel('Total Revenue')\n",
        "plt.show()\n",
        "\n",
        "\n"
      ],
      "metadata": {
        "colab": {
          "base_uri": "https://localhost:8080/",
          "height": 564
        },
        "id": "nU6G_ywJZOL-",
        "outputId": "a7a4adc4-c201-4390-8042-a417841e0517"
      },
      "execution_count": 11,
      "outputs": [
        {
          "output_type": "display_data",
          "data": {
            "text/plain": [
              "<Figure size 1000x600 with 1 Axes>"
            ],
            "image/png": "[encoded data removed]"
          },
          "metadata": {}
        }
      ]
    },
    {
      "cell_type": "code",
      "source": [
        "# Year-Month Sales Visualization\n",
        "fig = px.line(x=year_monthly_sales.index.astype(str), y=year_monthly_sales.values,\n",
        "              labels={'x': 'Year-Month', 'y': 'Total Revenue'}, title='Year-Month Sales')\n",
        "fig.show()"
      ],
      "metadata": {
        "colab": {
          "base_uri": "https://localhost:8080/",
          "height": 542
        },
        "id": "NygxLQlRZOOP",
        "outputId": "2c643844-9b06-4b53-e695-b9257b2c630a"
      },
      "execution_count": 12,
      "outputs": [
        {
          "output_type": "display_data",
          "data": {
            "text/html": [
              "<html>\n",
              "<head><meta charset=\"utf-8\" /></head>\n",
              "<body>\n",
              "    <div>            <script src=\"https://cdnjs.cloudflare.com/ajax/libs/mathjax/2.7.5/MathJax.js?config=TeX-AMS-MML_SVG\"></script><script type=\"text/javascript\">if (window.MathJax && window.MathJax.Hub && window.MathJax.Hub.Config) {window.MathJax.Hub.Config({SVG: {font: \"STIX-Web\"}});}</script>                <script type=\"text/javascript\">window.PlotlyConfig = {MathJaxConfig: 'local'};</script>\n",
              "        <script charset=\"utf-8\" src=\"https://cdn.plot.ly/plotly-2.24.1.min.js\"></script>                <div id=\"c2d52aa2-b37e-4264-a95f-171befb76331\" class=\"plotly-graph-div\" style=\"height:525px; width:100%;\"></div>            <script type=\"text/javascript\">                                    window.PLOTLYENV=window.PLOTLYENV || {};                                    if (document.getElementById(\"c2d52aa2-b37e-4264-a95f-171befb76331\")) {                    Plotly.newPlot(                        \"c2d52aa2-b37e-4264-a95f-171befb76331\",                        [{\"hovertemplate\":\"Year-Month=%{x}\\u003cbr\\u003eTotal Revenue=%{y}\\u003cextra\\u003e\\u003c\\u002fextra\\u003e\",\"legendgroup\":\"\",\"line\":{\"color\":\"#636efa\",\"dash\":\"solid\"},\"marker\":{\"symbol\":\"circle\"},\"mode\":\"lines\",\"name\":\"\",\"orientation\":\"v\",\"showlegend\":false,\"x\":[\"2010-02\",\"2010-05\",\"2010-06\",\"2010-10\",\"2010-11\",\"2010-12\",\"2011-01\",\"2011-02\",\"2011-04\",\"2011-05\",\"2011-06\",\"2011-07\",\"2011-09\",\"2011-11\",\"2012-01\",\"2012-02\",\"2012-03\",\"2012-04\",\"2012-05\",\"2012-06\",\"2012-07\",\"2012-08\",\"2012-09\",\"2012-10\",\"2013-02\",\"2013-03\",\"2013-04\",\"2013-06\",\"2013-07\",\"2013-08\",\"2013-09\",\"2013-10\",\"2013-12\",\"2014-02\",\"2014-04\",\"2014-05\",\"2014-06\",\"2014-07\",\"2014-08\",\"2014-09\",\"2014-10\",\"2014-11\",\"2015-01\",\"2015-02\",\"2015-04\",\"2015-07\",\"2015-08\",\"2015-10\",\"2015-11\",\"2016-03\",\"2016-05\",\"2016-06\",\"2016-07\",\"2016-10\",\"2016-11\",\"2016-12\",\"2017-01\",\"2017-02\",\"2017-03\",\"2017-05\"],\"xaxis\":\"x\",\"y\":[3410661.1199999996,2587973.26,1082418.4,6064933.75,3458252.0,2581786.39,1042225.3500000001,387002.2,2798046.49,272410.45,19103.44,97040.64,574951.92,5938385.58,1012884.0,6707849.42,994765.42,4556012.38,3782781.82,2132075.27,4445093.92,576782.8,4648152.720000001,3042246.7699999996,3296425.02,835759.1,3262562.1,1352867.4,8545511.2,89623.98,71253.21,2702770.4,173676.25,1819660.25,4510578.1,3060338.59,75591.66,688641.85,455479.04,20404.71,1352370.65,4647149.58,5513227.5,2003911.1199999999,1059987.26,1292409.45,6279.09,1904138.04,648030.4,197883.4,414371.1,568269.6,600821.44,221117.0,5876405.199999999,4493999.4799999995,2914130.27,7115008.640000001,246415.95,3097864.77],\"yaxis\":\"y\",\"type\":\"scatter\"}],                        {\"template\":{\"data\":{\"histogram2dcontour\":[{\"type\":\"histogram2dcontour\",\"colorbar\":{\"outlinewidth\":0,\"ticks\":\"\"},\"colorscale\":[[0.0,\"#0d0887\"],[0.1111111111111111,\"#46039f\"],[0.2222222222222222,\"#7201a8\"],[0.3333333333333333,\"#9c179e\"],[0.4444444444444444,\"#bd3786\"],[0.5555555555555556,\"#d8576b\"],[0.6666666666666666,\"#ed7953\"],[0.7777777777777778,\"#fb9f3a\"],[0.8888888888888888,\"#fdca26\"],[1.0,\"#f0f921\"]]}],\"choropleth\":[{\"type\":\"choropleth\",\"colorbar\":{\"outlinewidth\":0,\"ticks\":\"\"}}],\"histogram2d\":[{\"type\":\"histogram2d\",\"colorbar\":{\"outlinewidth\":0,\"ticks\":\"\"},\"colorscale\":[[0.0,\"#0d0887\"],[0.1111111111111111,\"#46039f\"],[0.2222222222222222,\"#7201a8\"],[0.3333333333333333,\"#9c179e\"],[0.4444444444444444,\"#bd3786\"],[0.5555555555555556,\"#d8576b\"],[0.6666666666666666,\"#ed7953\"],[0.7777777777777778,\"#fb9f3a\"],[0.8888888888888888,\"#fdca26\"],[1.0,\"#f0f921\"]]}],\"heatmap\":[{\"type\":\"heatmap\",\"colorbar\":{\"outlinewidth\":0,\"ticks\":\"\"},\"colorscale\":[[0.0,\"#0d0887\"],[0.1111111111111111,\"#46039f\"],[0.2222222222222222,\"#7201a8\"],[0.3333333333333333,\"#9c179e\"],[0.4444444444444444,\"#bd3786\"],[0.5555555555555556,\"#d8576b\"],[0.6666666666666666,\"#ed7953\"],[0.7777777777777778,\"#fb9f3a\"],[0.8888888888888888,\"#fdca26\"],[1.0,\"#f0f921\"]]}],\"heatmapgl\":[{\"type\":\"heatmapgl\",\"colorbar\":{\"outlinewidth\":0,\"ticks\":\"\"},\"colorscale\":[[0.0,\"#0d0887\"],[0.1111111111111111,\"#46039f\"],[0.2222222222222222,\"#7201a8\"],[0.3333333333333333,\"#9c179e\"],[0.4444444444444444,\"#bd3786\"],[0.5555555555555556,\"#d8576b\"],[0.6666666666666666,\"#ed7953\"],[0.7777777777777778,\"#fb9f3a\"],[0.8888888888888888,\"#fdca26\"],[1.0,\"#f0f921\"]]}],\"contourcarpet\":[{\"type\":\"contourcarpet\",\"colorbar\":{\"outlinewidth\":0,\"ticks\":\"\"}}],\"contour\":[{\"type\":\"contour\",\"colorbar\":{\"outlinewidth\":0,\"ticks\":\"\"},\"colorscale\":[[0.0,\"#0d0887\"],[0.1111111111111111,\"#46039f\"],[0.2222222222222222,\"#7201a8\"],[0.3333333333333333,\"#9c179e\"],[0.4444444444444444,\"#bd3786\"],[0.5555555555555556,\"#d8576b\"],[0.6666666666666666,\"#ed7953\"],[0.7777777777777778,\"#fb9f3a\"],[0.8888888888888888,\"#fdca26\"],[1.0,\"#f0f921\"]]}],\"surface\":[{\"type\":\"surface\",\"colorbar\":{\"outlinewidth\":0,\"ticks\":\"\"},\"colorscale\":[[0.0,\"#0d0887\"],[0.1111111111111111,\"#46039f\"],[0.2222222222222222,\"#7201a8\"],[0.3333333333333333,\"#9c179e\"],[0.4444444444444444,\"#bd3786\"],[0.5555555555555556,\"#d8576b\"],[0.6666666666666666,\"#ed7953\"],[0.7777777777777778,\"#fb9f3a\"],[0.8888888888888888,\"#fdca26\"],[1.0,\"#f0f921\"]]}],\"mesh3d\":[{\"type\":\"mesh3d\",\"colorbar\":{\"outlinewidth\":0,\"ticks\":\"\"}}],\"scatter\":[{\"fillpattern\":{\"fillmode\":\"overlay\",\"size\":10,\"solidity\":0.2},\"type\":\"scatter\"}],\"parcoords\":[{\"type\":\"parcoords\",\"line\":{\"colorbar\":{\"outlinewidth\":0,\"ticks\":\"\"}}}],\"scatterpolargl\":[{\"type\":\"scatterpolargl\",\"marker\":{\"colorbar\":{\"outlinewidth\":0,\"ticks\":\"\"}}}],\"bar\":[{\"error_x\":{\"color\":\"#2a3f5f\"},\"error_y\":{\"color\":\"#2a3f5f\"},\"marker\":{\"line\":{\"color\":\"#E5ECF6\",\"width\":0.5},\"pattern\":{\"fillmode\":\"overlay\",\"size\":10,\"solidity\":0.2}},\"type\":\"bar\"}],\"scattergeo\":[{\"type\":\"scattergeo\",\"marker\":{\"colorbar\":{\"outlinewidth\":0,\"ticks\":\"\"}}}],\"scatterpolar\":[{\"type\":\"scatterpolar\",\"marker\":{\"colorbar\":{\"outlinewidth\":0,\"ticks\":\"\"}}}],\"histogram\":[{\"marker\":{\"pattern\":{\"fillmode\":\"overlay\",\"size\":10,\"solidity\":0.2}},\"type\":\"histogram\"}],\"scattergl\":[{\"type\":\"scattergl\",\"marker\":{\"colorbar\":{\"outlinewidth\":0,\"ticks\":\"\"}}}],\"scatter3d\":[{\"type\":\"scatter3d\",\"line\":{\"colorbar\":{\"outlinewidth\":0,\"ticks\":\"\"}},\"marker\":{\"colorbar\":{\"outlinewidth\":0,\"ticks\":\"\"}}}],\"scattermapbox\":[{\"type\":\"scattermapbox\",\"marker\":{\"colorbar\":{\"outlinewidth\":0,\"ticks\":\"\"}}}],\"scatterternary\":[{\"type\":\"scatterternary\",\"marker\":{\"colorbar\":{\"outlinewidth\":0,\"ticks\":\"\"}}}],\"scattercarpet\":[{\"type\":\"scattercarpet\",\"marker\":{\"colorbar\":{\"outlinewidth\":0,\"ticks\":\"\"}}}],\"carpet\":[{\"aaxis\":{\"endlinecolor\":\"#2a3f5f\",\"gridcolor\":\"white\",\"linecolor\":\"white\",\"minorgridcolor\":\"white\",\"startlinecolor\":\"#2a3f5f\"},\"baxis\":{\"endlinecolor\":\"#2a3f5f\",\"gridcolor\":\"white\",\"linecolor\":\"white\",\"minorgridcolor\":\"white\",\"startlinecolor\":\"#2a3f5f\"},\"type\":\"carpet\"}],\"table\":[{\"cells\":{\"fill\":{\"color\":\"#EBF0F8\"},\"line\":{\"color\":\"white\"}},\"header\":{\"fill\":{\"color\":\"#C8D4E3\"},\"line\":{\"color\":\"white\"}},\"type\":\"table\"}],\"barpolar\":[{\"marker\":{\"line\":{\"color\":\"#E5ECF6\",\"width\":0.5},\"pattern\":{\"fillmode\":\"overlay\",\"size\":10,\"solidity\":0.2}},\"type\":\"barpolar\"}],\"pie\":[{\"automargin\":true,\"type\":\"pie\"}]},\"layout\":{\"autotypenumbers\":\"strict\",\"colorway\":[\"#636efa\",\"#EF553B\",\"#00cc96\",\"#ab63fa\",\"#FFA15A\",\"#19d3f3\",\"#FF6692\",\"#B6E880\",\"#FF97FF\",\"#FECB52\"],\"font\":{\"color\":\"#2a3f5f\"},\"hovermode\":\"closest\",\"hoverlabel\":{\"align\":\"left\"},\"paper_bgcolor\":\"white\",\"plot_bgcolor\":\"#E5ECF6\",\"polar\":{\"bgcolor\":\"#E5ECF6\",\"angularaxis\":{\"gridcolor\":\"white\",\"linecolor\":\"white\",\"ticks\":\"\"},\"radialaxis\":{\"gridcolor\":\"white\",\"linecolor\":\"white\",\"ticks\":\"\"}},\"ternary\":{\"bgcolor\":\"#E5ECF6\",\"aaxis\":{\"gridcolor\":\"white\",\"linecolor\":\"white\",\"ticks\":\"\"},\"baxis\":{\"gridcolor\":\"white\",\"linecolor\":\"white\",\"ticks\":\"\"},\"caxis\":{\"gridcolor\":\"white\",\"linecolor\":\"white\",\"ticks\":\"\"}},\"coloraxis\":{\"colorbar\":{\"outlinewidth\":0,\"ticks\":\"\"}},\"colorscale\":{\"sequential\":[[0.0,\"#0d0887\"],[0.1111111111111111,\"#46039f\"],[0.2222222222222222,\"#7201a8\"],[0.3333333333333333,\"#9c179e\"],[0.4444444444444444,\"#bd3786\"],[0.5555555555555556,\"#d8576b\"],[0.6666666666666666,\"#ed7953\"],[0.7777777777777778,\"#fb9f3a\"],[0.8888888888888888,\"#fdca26\"],[1.0,\"#f0f921\"]],\"sequentialminus\":[[0.0,\"#0d0887\"],[0.1111111111111111,\"#46039f\"],[0.2222222222222222,\"#7201a8\"],[0.3333333333333333,\"#9c179e\"],[0.4444444444444444,\"#bd3786\"],[0.5555555555555556,\"#d8576b\"],[0.6666666666666666,\"#ed7953\"],[0.7777777777777778,\"#fb9f3a\"],[0.8888888888888888,\"#fdca26\"],[1.0,\"#f0f921\"]],\"diverging\":[[0,\"#8e0152\"],[0.1,\"#c51b7d\"],[0.2,\"#de77ae\"],[0.3,\"#f1b6da\"],[0.4,\"#fde0ef\"],[0.5,\"#f7f7f7\"],[0.6,\"#e6f5d0\"],[0.7,\"#b8e186\"],[0.8,\"#7fbc41\"],[0.9,\"#4d9221\"],[1,\"#276419\"]]},\"xaxis\":{\"gridcolor\":\"white\",\"linecolor\":\"white\",\"ticks\":\"\",\"title\":{\"standoff\":15},\"zerolinecolor\":\"white\",\"automargin\":true,\"zerolinewidth\":2},\"yaxis\":{\"gridcolor\":\"white\",\"linecolor\":\"white\",\"ticks\":\"\",\"title\":{\"standoff\":15},\"zerolinecolor\":\"white\",\"automargin\":true,\"zerolinewidth\":2},\"scene\":{\"xaxis\":{\"backgroundcolor\":\"#E5ECF6\",\"gridcolor\":\"white\",\"linecolor\":\"white\",\"showbackground\":true,\"ticks\":\"\",\"zerolinecolor\":\"white\",\"gridwidth\":2},\"yaxis\":{\"backgroundcolor\":\"#E5ECF6\",\"gridcolor\":\"white\",\"linecolor\":\"white\",\"showbackground\":true,\"ticks\":\"\",\"zerolinecolor\":\"white\",\"gridwidth\":2},\"zaxis\":{\"backgroundcolor\":\"#E5ECF6\",\"gridcolor\":\"white\",\"linecolor\":\"white\",\"showbackground\":true,\"ticks\":\"\",\"zerolinecolor\":\"white\",\"gridwidth\":2}},\"shapedefaults\":{\"line\":{\"color\":\"#2a3f5f\"}},\"annotationdefaults\":{\"arrowcolor\":\"#2a3f5f\",\"arrowhead\":0,\"arrowwidth\":1},\"geo\":{\"bgcolor\":\"white\",\"landcolor\":\"#E5ECF6\",\"subunitcolor\":\"white\",\"showland\":true,\"showlakes\":true,\"lakecolor\":\"white\"},\"title\":{\"x\":0.05},\"mapbox\":{\"style\":\"light\"}}},\"xaxis\":{\"anchor\":\"y\",\"domain\":[0.0,1.0],\"title\":{\"text\":\"Year-Month\"}},\"yaxis\":{\"anchor\":\"x\",\"domain\":[0.0,1.0],\"title\":{\"text\":\"Total Revenue\"}},\"legend\":{\"tracegroupgap\":0},\"title\":{\"text\":\"Year-Month Sales\"}},                        {\"responsive\": true}                    ).then(function(){\n",
              "                            \n",
              "var gd = document.getElementById('c2d52aa2-b37e-4264-a95f-171befb76331');\n",
              "var x = new MutationObserver(function (mutations, observer) {{\n",
              "        var display = window.getComputedStyle(gd).display;\n",
              "        if (!display || display === 'none') {{\n",
              "            console.log([gd, 'removed!']);\n",
              "            Plotly.purge(gd);\n",
              "            observer.disconnect();\n",
              "        }}\n",
              "}});\n",
              "\n",
              "// Listen for the removal of the full notebook cells\n",
              "var notebookContainer = gd.closest('#notebook-container');\n",
              "if (notebookContainer) {{\n",
              "    x.observe(notebookContainer, {childList: true});\n",
              "}}\n",
              "\n",
              "// Listen for the clearing of the current output cell\n",
              "var outputEl = gd.closest('.output');\n",
              "if (outputEl) {{\n",
              "    x.observe(outputEl, {childList: true});\n",
              "}}\n",
              "\n",
              "                        })                };                            </script>        </div>\n",
              "</body>\n",
              "</html>"
            ]
          },
          "metadata": {}
        }
      ]
    },
    {
      "cell_type": "code",
      "source": [
        "import plotly.graph_objects as go\n",
        "\n",
        "# Dashboard Construction\n",
        "# We can create an interactive dashboard using Plotly\n",
        "# For simplicity, let's construct a basic dashboard with the three visualizations\n",
        "\n",
        "# Create trace for Monthly Sales\n",
        "trace_monthly_sales = go.Bar(x=monthly_sales.index, y=monthly_sales.values, name=\"Monthly Sales\")\n",
        "\n",
        "# Create trace for Yearly Sales\n",
        "trace_yearly_sales = go.Scatter(x=yearly_sales.index, y=yearly_sales.values, mode=\"lines\", name=\"Yearly Sales\")\n",
        "\n",
        "# Create trace for Year-Month Sales\n",
        "trace_year_monthly_sales = go.Scatter(x=year_monthly_sales.index.astype(str), y=year_monthly_sales.values, mode=\"lines\", name=\"Year-Month Sales\")\n",
        "\n",
        "# Dashboard layout\n",
        "dashboard_layout = go.Layout(\n",
        "    title=\"Amazon Sales Dashboard\",\n",
        "    xaxis=dict(title=\"Time\"),\n",
        "    yaxis=dict(title=\"Total Revenue\")\n",
        ")\n",
        "\n",
        "# Construct the dashboard\n",
        "fig = go.Figure(data=[trace_monthly_sales, trace_yearly_sales, trace_year_monthly_sales], layout=dashboard_layout)\n",
        "\n",
        "# Display the dashboard\n",
        "fig.show()\n"
      ],
      "metadata": {
        "colab": {
          "base_uri": "https://localhost:8080/",
          "height": 542
        },
        "id": "HydcY49IZOQq",
        "outputId": "e436c82c-ee2c-4137-b969-c602318801cb"
      },
      "execution_count": 16,
      "outputs": [
        {
          "output_type": "display_data",
          "data": {
            "text/html": [
              "<html>\n",
              "<head><meta charset=\"utf-8\" /></head>\n",
              "<body>\n",
              "    <div>            <script src=\"https://cdnjs.cloudflare.com/ajax/libs/mathjax/2.7.5/MathJax.js?config=TeX-AMS-MML_SVG\"></script><script type=\"text/javascript\">if (window.MathJax && window.MathJax.Hub && window.MathJax.Hub.Config) {window.MathJax.Hub.Config({SVG: {font: \"STIX-Web\"}});}</script>                <script type=\"text/javascript\">window.PlotlyConfig = {MathJaxConfig: 'local'};</script>\n",
              "        <script charset=\"utf-8\" src=\"https://cdn.plot.ly/plotly-2.24.1.min.js\"></script>                <div id=\"22dcf50e-48c0-4e82-b715-c7fe68e68442\" class=\"plotly-graph-div\" style=\"height:525px; width:100%;\"></div>            <script type=\"text/javascript\">                                    window.PLOTLYENV=window.PLOTLYENV || {};                                    if (document.getElementById(\"22dcf50e-48c0-4e82-b715-c7fe68e68442\")) {                    Plotly.newPlot(                        \"22dcf50e-48c0-4e82-b715-c7fe68e68442\",                        [{\"name\":\"Monthly Sales\",\"x\":[1,2,3,4,5,6,7,8,9,10,11,12],\"y\":[10482467.12,24740517.77,2274823.87,16187186.33,13215739.99,5230325.77,15669518.5,1128164.91,5314762.5600000005,15287576.61,20568222.759999998,7249462.12],\"type\":\"bar\"},{\"mode\":\"lines\",\"name\":\"Yearly Sales\",\"x\":[2010,2011,2012,2013,2014,2015,2016,2017],\"y\":[19186024.919999998,11129166.07,31898644.52,20330448.66,16630214.43,12427982.86,12372867.219999999,13373419.629999999],\"type\":\"scatter\"},{\"mode\":\"lines\",\"name\":\"Year-Month Sales\",\"x\":[\"2010-02\",\"2010-05\",\"2010-06\",\"2010-10\",\"2010-11\",\"2010-12\",\"2011-01\",\"2011-02\",\"2011-04\",\"2011-05\",\"2011-06\",\"2011-07\",\"2011-09\",\"2011-11\",\"2012-01\",\"2012-02\",\"2012-03\",\"2012-04\",\"2012-05\",\"2012-06\",\"2012-07\",\"2012-08\",\"2012-09\",\"2012-10\",\"2013-02\",\"2013-03\",\"2013-04\",\"2013-06\",\"2013-07\",\"2013-08\",\"2013-09\",\"2013-10\",\"2013-12\",\"2014-02\",\"2014-04\",\"2014-05\",\"2014-06\",\"2014-07\",\"2014-08\",\"2014-09\",\"2014-10\",\"2014-11\",\"2015-01\",\"2015-02\",\"2015-04\",\"2015-07\",\"2015-08\",\"2015-10\",\"2015-11\",\"2016-03\",\"2016-05\",\"2016-06\",\"2016-07\",\"2016-10\",\"2016-11\",\"2016-12\",\"2017-01\",\"2017-02\",\"2017-03\",\"2017-05\"],\"y\":[3410661.1199999996,2587973.26,1082418.4,6064933.75,3458252.0,2581786.39,1042225.3500000001,387002.2,2798046.49,272410.45,19103.44,97040.64,574951.92,5938385.58,1012884.0,6707849.42,994765.42,4556012.38,3782781.82,2132075.27,4445093.92,576782.8,4648152.720000001,3042246.7699999996,3296425.02,835759.1,3262562.1,1352867.4,8545511.2,89623.98,71253.21,2702770.4,173676.25,1819660.25,4510578.1,3060338.59,75591.66,688641.85,455479.04,20404.71,1352370.65,4647149.58,5513227.5,2003911.1199999999,1059987.26,1292409.45,6279.09,1904138.04,648030.4,197883.4,414371.1,568269.6,600821.44,221117.0,5876405.199999999,4493999.4799999995,2914130.27,7115008.640000001,246415.95,3097864.77],\"type\":\"scatter\"}],                        {\"title\":{\"text\":\"Amazon Sales Dashboard\"},\"xaxis\":{\"title\":{\"text\":\"Time\"}},\"yaxis\":{\"title\":{\"text\":\"Total Revenue\"}},\"template\":{\"data\":{\"histogram2dcontour\":[{\"type\":\"histogram2dcontour\",\"colorbar\":{\"outlinewidth\":0,\"ticks\":\"\"},\"colorscale\":[[0.0,\"#0d0887\"],[0.1111111111111111,\"#46039f\"],[0.2222222222222222,\"#7201a8\"],[0.3333333333333333,\"#9c179e\"],[0.4444444444444444,\"#bd3786\"],[0.5555555555555556,\"#d8576b\"],[0.6666666666666666,\"#ed7953\"],[0.7777777777777778,\"#fb9f3a\"],[0.8888888888888888,\"#fdca26\"],[1.0,\"#f0f921\"]]}],\"choropleth\":[{\"type\":\"choropleth\",\"colorbar\":{\"outlinewidth\":0,\"ticks\":\"\"}}],\"histogram2d\":[{\"type\":\"histogram2d\",\"colorbar\":{\"outlinewidth\":0,\"ticks\":\"\"},\"colorscale\":[[0.0,\"#0d0887\"],[0.1111111111111111,\"#46039f\"],[0.2222222222222222,\"#7201a8\"],[0.3333333333333333,\"#9c179e\"],[0.4444444444444444,\"#bd3786\"],[0.5555555555555556,\"#d8576b\"],[0.6666666666666666,\"#ed7953\"],[0.7777777777777778,\"#fb9f3a\"],[0.8888888888888888,\"#fdca26\"],[1.0,\"#f0f921\"]]}],\"heatmap\":[{\"type\":\"heatmap\",\"colorbar\":{\"outlinewidth\":0,\"ticks\":\"\"},\"colorscale\":[[0.0,\"#0d0887\"],[0.1111111111111111,\"#46039f\"],[0.2222222222222222,\"#7201a8\"],[0.3333333333333333,\"#9c179e\"],[0.4444444444444444,\"#bd3786\"],[0.5555555555555556,\"#d8576b\"],[0.6666666666666666,\"#ed7953\"],[0.7777777777777778,\"#fb9f3a\"],[0.8888888888888888,\"#fdca26\"],[1.0,\"#f0f921\"]]}],\"heatmapgl\":[{\"type\":\"heatmapgl\",\"colorbar\":{\"outlinewidth\":0,\"ticks\":\"\"},\"colorscale\":[[0.0,\"#0d0887\"],[0.1111111111111111,\"#46039f\"],[0.2222222222222222,\"#7201a8\"],[0.3333333333333333,\"#9c179e\"],[0.4444444444444444,\"#bd3786\"],[0.5555555555555556,\"#d8576b\"],[0.6666666666666666,\"#ed7953\"],[0.7777777777777778,\"#fb9f3a\"],[0.8888888888888888,\"#fdca26\"],[1.0,\"#f0f921\"]]}],\"contourcarpet\":[{\"type\":\"contourcarpet\",\"colorbar\":{\"outlinewidth\":0,\"ticks\":\"\"}}],\"contour\":[{\"type\":\"contour\",\"colorbar\":{\"outlinewidth\":0,\"ticks\":\"\"},\"colorscale\":[[0.0,\"#0d0887\"],[0.1111111111111111,\"#46039f\"],[0.2222222222222222,\"#7201a8\"],[0.3333333333333333,\"#9c179e\"],[0.4444444444444444,\"#bd3786\"],[0.5555555555555556,\"#d8576b\"],[0.6666666666666666,\"#ed7953\"],[0.7777777777777778,\"#fb9f3a\"],[0.8888888888888888,\"#fdca26\"],[1.0,\"#f0f921\"]]}],\"surface\":[{\"type\":\"surface\",\"colorbar\":{\"outlinewidth\":0,\"ticks\":\"\"},\"colorscale\":[[0.0,\"#0d0887\"],[0.1111111111111111,\"#46039f\"],[0.2222222222222222,\"#7201a8\"],[0.3333333333333333,\"#9c179e\"],[0.4444444444444444,\"#bd3786\"],[0.5555555555555556,\"#d8576b\"],[0.6666666666666666,\"#ed7953\"],[0.7777777777777778,\"#fb9f3a\"],[0.8888888888888888,\"#fdca26\"],[1.0,\"#f0f921\"]]}],\"mesh3d\":[{\"type\":\"mesh3d\",\"colorbar\":{\"outlinewidth\":0,\"ticks\":\"\"}}],\"scatter\":[{\"fillpattern\":{\"fillmode\":\"overlay\",\"size\":10,\"solidity\":0.2},\"type\":\"scatter\"}],\"parcoords\":[{\"type\":\"parcoords\",\"line\":{\"colorbar\":{\"outlinewidth\":0,\"ticks\":\"\"}}}],\"scatterpolargl\":[{\"type\":\"scatterpolargl\",\"marker\":{\"colorbar\":{\"outlinewidth\":0,\"ticks\":\"\"}}}],\"bar\":[{\"error_x\":{\"color\":\"#2a3f5f\"},\"error_y\":{\"color\":\"#2a3f5f\"},\"marker\":{\"line\":{\"color\":\"#E5ECF6\",\"width\":0.5},\"pattern\":{\"fillmode\":\"overlay\",\"size\":10,\"solidity\":0.2}},\"type\":\"bar\"}],\"scattergeo\":[{\"type\":\"scattergeo\",\"marker\":{\"colorbar\":{\"outlinewidth\":0,\"ticks\":\"\"}}}],\"scatterpolar\":[{\"type\":\"scatterpolar\",\"marker\":{\"colorbar\":{\"outlinewidth\":0,\"ticks\":\"\"}}}],\"histogram\":[{\"marker\":{\"pattern\":{\"fillmode\":\"overlay\",\"size\":10,\"solidity\":0.2}},\"type\":\"histogram\"}],\"scattergl\":[{\"type\":\"scattergl\",\"marker\":{\"colorbar\":{\"outlinewidth\":0,\"ticks\":\"\"}}}],\"scatter3d\":[{\"type\":\"scatter3d\",\"line\":{\"colorbar\":{\"outlinewidth\":0,\"ticks\":\"\"}},\"marker\":{\"colorbar\":{\"outlinewidth\":0,\"ticks\":\"\"}}}],\"scattermapbox\":[{\"type\":\"scattermapbox\",\"marker\":{\"colorbar\":{\"outlinewidth\":0,\"ticks\":\"\"}}}],\"scatterternary\":[{\"type\":\"scatterternary\",\"marker\":{\"colorbar\":{\"outlinewidth\":0,\"ticks\":\"\"}}}],\"scattercarpet\":[{\"type\":\"scattercarpet\",\"marker\":{\"colorbar\":{\"outlinewidth\":0,\"ticks\":\"\"}}}],\"carpet\":[{\"aaxis\":{\"endlinecolor\":\"#2a3f5f\",\"gridcolor\":\"white\",\"linecolor\":\"white\",\"minorgridcolor\":\"white\",\"startlinecolor\":\"#2a3f5f\"},\"baxis\":{\"endlinecolor\":\"#2a3f5f\",\"gridcolor\":\"white\",\"linecolor\":\"white\",\"minorgridcolor\":\"white\",\"startlinecolor\":\"#2a3f5f\"},\"type\":\"carpet\"}],\"table\":[{\"cells\":{\"fill\":{\"color\":\"#EBF0F8\"},\"line\":{\"color\":\"white\"}},\"header\":{\"fill\":{\"color\":\"#C8D4E3\"},\"line\":{\"color\":\"white\"}},\"type\":\"table\"}],\"barpolar\":[{\"marker\":{\"line\":{\"color\":\"#E5ECF6\",\"width\":0.5},\"pattern\":{\"fillmode\":\"overlay\",\"size\":10,\"solidity\":0.2}},\"type\":\"barpolar\"}],\"pie\":[{\"automargin\":true,\"type\":\"pie\"}]},\"layout\":{\"autotypenumbers\":\"strict\",\"colorway\":[\"#636efa\",\"#EF553B\",\"#00cc96\",\"#ab63fa\",\"#FFA15A\",\"#19d3f3\",\"#FF6692\",\"#B6E880\",\"#FF97FF\",\"#FECB52\"],\"font\":{\"color\":\"#2a3f5f\"},\"hovermode\":\"closest\",\"hoverlabel\":{\"align\":\"left\"},\"paper_bgcolor\":\"white\",\"plot_bgcolor\":\"#E5ECF6\",\"polar\":{\"bgcolor\":\"#E5ECF6\",\"angularaxis\":{\"gridcolor\":\"white\",\"linecolor\":\"white\",\"ticks\":\"\"},\"radialaxis\":{\"gridcolor\":\"white\",\"linecolor\":\"white\",\"ticks\":\"\"}},\"ternary\":{\"bgcolor\":\"#E5ECF6\",\"aaxis\":{\"gridcolor\":\"white\",\"linecolor\":\"white\",\"ticks\":\"\"},\"baxis\":{\"gridcolor\":\"white\",\"linecolor\":\"white\",\"ticks\":\"\"},\"caxis\":{\"gridcolor\":\"white\",\"linecolor\":\"white\",\"ticks\":\"\"}},\"coloraxis\":{\"colorbar\":{\"outlinewidth\":0,\"ticks\":\"\"}},\"colorscale\":{\"sequential\":[[0.0,\"#0d0887\"],[0.1111111111111111,\"#46039f\"],[0.2222222222222222,\"#7201a8\"],[0.3333333333333333,\"#9c179e\"],[0.4444444444444444,\"#bd3786\"],[0.5555555555555556,\"#d8576b\"],[0.6666666666666666,\"#ed7953\"],[0.7777777777777778,\"#fb9f3a\"],[0.8888888888888888,\"#fdca26\"],[1.0,\"#f0f921\"]],\"sequentialminus\":[[0.0,\"#0d0887\"],[0.1111111111111111,\"#46039f\"],[0.2222222222222222,\"#7201a8\"],[0.3333333333333333,\"#9c179e\"],[0.4444444444444444,\"#bd3786\"],[0.5555555555555556,\"#d8576b\"],[0.6666666666666666,\"#ed7953\"],[0.7777777777777778,\"#fb9f3a\"],[0.8888888888888888,\"#fdca26\"],[1.0,\"#f0f921\"]],\"diverging\":[[0,\"#8e0152\"],[0.1,\"#c51b7d\"],[0.2,\"#de77ae\"],[0.3,\"#f1b6da\"],[0.4,\"#fde0ef\"],[0.5,\"#f7f7f7\"],[0.6,\"#e6f5d0\"],[0.7,\"#b8e186\"],[0.8,\"#7fbc41\"],[0.9,\"#4d9221\"],[1,\"#276419\"]]},\"xaxis\":{\"gridcolor\":\"white\",\"linecolor\":\"white\",\"ticks\":\"\",\"title\":{\"standoff\":15},\"zerolinecolor\":\"white\",\"automargin\":true,\"zerolinewidth\":2},\"yaxis\":{\"gridcolor\":\"white\",\"linecolor\":\"white\",\"ticks\":\"\",\"title\":{\"standoff\":15},\"zerolinecolor\":\"white\",\"automargin\":true,\"zerolinewidth\":2},\"scene\":{\"xaxis\":{\"backgroundcolor\":\"#E5ECF6\",\"gridcolor\":\"white\",\"linecolor\":\"white\",\"showbackground\":true,\"ticks\":\"\",\"zerolinecolor\":\"white\",\"gridwidth\":2},\"yaxis\":{\"backgroundcolor\":\"#E5ECF6\",\"gridcolor\":\"white\",\"linecolor\":\"white\",\"showbackground\":true,\"ticks\":\"\",\"zerolinecolor\":\"white\",\"gridwidth\":2},\"zaxis\":{\"backgroundcolor\":\"#E5ECF6\",\"gridcolor\":\"white\",\"linecolor\":\"white\",\"showbackground\":true,\"ticks\":\"\",\"zerolinecolor\":\"white\",\"gridwidth\":2}},\"shapedefaults\":{\"line\":{\"color\":\"#2a3f5f\"}},\"annotationdefaults\":{\"arrowcolor\":\"#2a3f5f\",\"arrowhead\":0,\"arrowwidth\":1},\"geo\":{\"bgcolor\":\"white\",\"landcolor\":\"#E5ECF6\",\"subunitcolor\":\"white\",\"showland\":true,\"showlakes\":true,\"lakecolor\":\"white\"},\"title\":{\"x\":0.05},\"mapbox\":{\"style\":\"light\"}}}},                        {\"responsive\": true}                    ).then(function(){\n",
              "                            \n",
              "var gd = document.getElementById('22dcf50e-48c0-4e82-b715-c7fe68e68442');\n",
              "var x = new MutationObserver(function (mutations, observer) {{\n",
              "        var display = window.getComputedStyle(gd).display;\n",
              "        if (!display || display === 'none') {{\n",
              "            console.log([gd, 'removed!']);\n",
              "            Plotly.purge(gd);\n",
              "            observer.disconnect();\n",
              "        }}\n",
              "}});\n",
              "\n",
              "// Listen for the removal of the full notebook cells\n",
              "var notebookContainer = gd.closest('#notebook-container');\n",
              "if (notebookContainer) {{\n",
              "    x.observe(notebookContainer, {childList: true});\n",
              "}}\n",
              "\n",
              "// Listen for the clearing of the current output cell\n",
              "var outputEl = gd.closest('.output');\n",
              "if (outputEl) {{\n",
              "    x.observe(outputEl, {childList: true});\n",
              "}}\n",
              "\n",
              "                        })                };                            </script>        </div>\n",
              "</body>\n",
              "</html>"
            ]
          },
          "metadata": {}
        }
      ]
    },
    {
      "cell_type": "code",
      "source": [],
      "metadata": {
        "id": "le3dMUl-ZzsX"
      },
      "execution_count": null,
      "outputs": []
    },
    {
      "cell_type": "code",
      "source": [],
      "metadata": {
        "id": "156b9Q_hZzun"
      },
      "execution_count": null,
      "outputs": []
    },
    {
      "cell_type": "code",
      "source": [],
      "metadata": {
        "id": "V_ECfjlnZzw0"
      },
      "execution_count": null,
      "outputs": []
    },
    {
      "cell_type": "code",
      "source": [],
      "metadata": {
        "id": "43Kvs3TsZz0c"
      },
      "execution_count": null,
      "outputs": []
    }
  ]
}